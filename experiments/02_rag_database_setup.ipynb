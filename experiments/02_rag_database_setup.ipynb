{
 "cells": [
  {
   "cell_type": "markdown",
   "id": "2b146909",
   "metadata": {},
   "source": [
    "# RAG Setup\n",
    "Now that we have the structured data in ```JSONL``` format, we will go about embedding and vectorizing this data to make it RAG-ready.   \n",
    "   \n",
    "So, before any LLM \"answers\" in a RAG pipeline, the setup must go through:\n",
    "> Data → Embedding → Vectorization → Indexing → Retrieval → LLM QA\n",
    "\n",
    "## Load Data"
   ]
  },
  {
   "cell_type": "code",
   "execution_count": 1,
   "id": "fad75798",
   "metadata": {},
   "outputs": [],
   "source": [
    "import json\n",
    "\n",
    "# Path to your JSONL file\n",
    "jsonl_path = \"/workspaces/Avva-2.0/experiments/symptom_remedy_data.jsonl\"\n",
    "\n",
    "# Load records\n",
    "records = []\n",
    "with open(jsonl_path, \"r\") as f:\n",
    "    for line in f:\n",
    "        try:\n",
    "            item = json.loads(line.strip())\n",
    "            # Optional: filter out invalid entries\n",
    "            if item.get(\"symptom\") and item.get(\"remedy\"):\n",
    "                records.append(item)\n",
    "        except json.JSONDecodeError as e:\n",
    "            print(f\"Skipping invalid line: {e}\")\n"
   ]
  },
  {
   "cell_type": "code",
   "execution_count": 2,
   "id": "f9fb645e",
   "metadata": {},
   "outputs": [
    {
     "name": "stdout",
     "output_type": "stream",
     "text": [
      "Loaded 88 valid records.\n",
      "{'symptom': 'cough and sore throat', 'remedy': 'Tea, Honey, Echinacea, Elderberry syrup, Pelargonium', 'description': 'Throat-coating properties to reduce irritation, soothe sore throats, suppress coughs, reduce cold symptoms, and have antiviral properties', 'warnings': 'Try each remedy individually and consult a doctor before use if pregnant, breastfeeding, or taking prescription medications', 'source_url': 'https://www.allinahealth.org/healthysetgo/heal/natural-remedies-for-everyday-illnesses'}\n"
     ]
    }
   ],
   "source": [
    "print(f\"Loaded {len(records)} valid records.\")\n",
    "print(records[0])"
   ]
  },
  {
   "cell_type": "code",
   "execution_count": null,
   "id": "5846957e",
   "metadata": {},
   "outputs": [],
   "source": []
  },
  {
   "cell_type": "markdown",
   "id": "29f9ca41",
   "metadata": {},
   "source": [
    "## RAG Framework \n",
    "\n",
    "| Framework               | Best For                           | Strengths                                                    | Tradeoffs                                |\n",
    "| ----------------------- | ---------------------------------- | ------------------------------------------------------------ | ---------------------------------------- |\n",
    "| **LangChain**           | General RAG + agents               | ✅ Huge ecosystem, tools, agents, integrations                | Heavy; complex tracing; less transparent |\n",
    "| **LlamaIndex**          | Structured, hybrid, or tabular RAG | ✅ Better document structure control, tree index, tabular RAG | Agents are basic, fewer agent tools      |\n",
    "| **Haystack**            | Traditional NLP, QA, open source   | ✅ Flexible pipeline control, solid evals                     | Less LLM-native; older ecosystem         |\n",
    "| **SmolAgents / CrewAI** | Dev-first agent systems            | ✅ Tiny, hackable, very fast for multi-agent apps             | Lacks fine-grained RAG plumbing          |\n",
    "| **RAGatouille**         | Plug-and-play vector RAG           | ✅ Super minimal RAG-only wrapper                             | No agents, no eval tools                 |\n",
    "| **Dust.tt**             | UI-first prompt+tool orchestration | ✅ Great UX, graphs, eval tracking                            | SaaS-based, not self-hosted              |      \n",
    "   \n",
    "So module-wise\n",
    "   \n",
    "| Module                   | Best Choice                                                                                              |\n",
    "| ------------------------ | -------------------------------------------------------------------------------------------------------- |\n",
    "| 🔍 Embedding + Retrieval | **LlamaIndex** or **LangChain** (start with LangChain if agents are central)                             |\n",
    "| 🧠 Agents + Tool Use     | **CrewAI** or **SmolAgents** (lightweight, composable)                                                   |\n",
    "| 📊 Evaluation            | Use **TruLens**, **RAGAS**, or **Promptfoo** (can be plugged into either)                                |\n",
    "| 🔧 Optional RAG Plug     | You can even use **LlamaIndex for vector management**, and connect to **LangChain Agents** for reasoning |"
   ]
  },
  {
   "cell_type": "markdown",
   "id": "b81265bf",
   "metadata": {},
   "source": [
    "### Step 1: Convert JSON → `Document` objects\n",
    "| Format                      | Pros                                               | Cons                                                    |\n",
    "| --------------------------- | -------------------------------------------------- | ------------------------------------------------------- |\n",
    "| `langchain.schema.Document` | ✅ Standardized for LangChain<br>✅ Metadata support | Slightly verbose                                        |\n",
    "| `llama_index.TextNode`      | ✅ Structured field storage<br>✅ Fine-tuned control | Works best if you plan to use **LlamaIndex end-to-end** |\n",
    "| Raw dicts (custom)          | ✅ Minimal, DIY logic                               | ❌ Not supported in RAG toolchains                       |\n",
    "   \n",
    "✅ Use LangChain\n"
   ]
  },
  {
   "cell_type": "code",
   "execution_count": 3,
   "id": "ce5c6768",
   "metadata": {},
   "outputs": [],
   "source": [
    "from langchain.schema import Document\n",
    "\n",
    "documents = []\n",
    "for item in records:\n",
    "    if item.get(\"symptom\") and item.get(\"remedy\"):\n",
    "        page_content = (\n",
    "            f\"Symptom: {item['symptom']}\\n\"\n",
    "            f\"Remedy: {item['remedy']}\\n\"\n",
    "            f\"Description: {item.get('description', '')}\\n\"\n",
    "            f\"Warnings: {item.get('warnings', '')}\"\n",
    "        )\n",
    "        metadata = {\"source_url\": item.get(\"source_url\", \"unknown\")}\n",
    "        documents.append(Document(page_content=page_content, metadata=metadata))\n"
   ]
  },
  {
   "cell_type": "code",
   "execution_count": 4,
   "id": "737222fb",
   "metadata": {},
   "outputs": [
    {
     "data": {
      "text/plain": [
       "[Document(metadata={'source_url': 'https://www.allinahealth.org/healthysetgo/heal/natural-remedies-for-everyday-illnesses'}, page_content='Symptom: cough and sore throat\\nRemedy: Tea, Honey, Echinacea, Elderberry syrup, Pelargonium\\nDescription: Throat-coating properties to reduce irritation, soothe sore throats, suppress coughs, reduce cold symptoms, and have antiviral properties\\nWarnings: Try each remedy individually and consult a doctor before use if pregnant, breastfeeding, or taking prescription medications'),\n",
       " Document(metadata={'source_url': 'https://www.allinahealth.org/healthysetgo/heal/natural-remedies-for-everyday-illnesses'}, page_content='Symptom: upset stomach, nausea, motion sickness\\nRemedy: Ginger\\nDescription: Helpful for digestive issues\\nWarnings: None'),\n",
       " Document(metadata={'source_url': 'https://www.allinahealth.org/healthysetgo/heal/natural-remedies-for-everyday-illnesses'}, page_content='Symptom: diarrhea\\nRemedy: Probiotics\\nDescription: Good bacteria for the digestive system, helps with diarrhea\\nWarnings: None'),\n",
       " Document(metadata={'source_url': 'https://www.allinahealth.org/healthysetgo/heal/natural-remedies-for-everyday-illnesses'}, page_content='Symptom: muscle aches, pains, bruising\\nRemedy: Arnica cream\\nDescription: Soothes muscle discomfort\\nWarnings: None'),\n",
       " Document(metadata={'source_url': 'https://www.allinahealth.org/healthysetgo/heal/natural-remedies-for-everyday-illnesses'}, page_content=\"Symptom: bacterial or fungal infections, acne, athlete's foot\\nRemedy: Tea tree oil\\nDescription: Anti-inflammatory agent for skin infections\\nWarnings: None\")]"
      ]
     },
     "execution_count": 4,
     "metadata": {},
     "output_type": "execute_result"
    }
   ],
   "source": [
    "documents[:5]"
   ]
  },
  {
   "cell_type": "markdown",
   "id": "b4e00d67",
   "metadata": {},
   "source": [
    "### Step 2: Choose Embedding Model\n",
    "\n",
    "| Model                                                   | Pros                                                     | Cons                                                                  |\n",
    "| ------------------------------------------------------- | -------------------------------------------------------- | --------------------------------------------------------------------- |\n",
    "| `OpenAIEmbeddings` (`text-embedding-3-small`)           | ✅ Very accurate<br>✅ Works out of the box with LangChain | ❌ API calls = paid<br>❌ Slow for large batches                        |\n",
    "| `HuggingFaceEmbeddings` (e.g. MiniLM, bge-small)        | ✅ Free<br>✅ Fast<br>✅ Good quality                       | ❌ Needs local compute<br>❌ Slightly less performant on subtle queries |\n",
    "| `InstructorEmbeddings`                                  | ✅ Good with instructions/context<br>✅ Free               | ❌ Heavier; needs sentence-transformers setup                          |\n",
    "| `Mistral-based` embeddings (via Hugging Face or Ollama) | ✅ Emerging, fast, local                                  | ❌ Less mature; limited support in LangChain now                       |\n",
    "\n"
   ]
  },
  {
   "cell_type": "code",
   "execution_count": 5,
   "id": "a4125918",
   "metadata": {},
   "outputs": [],
   "source": [
    "! pip install sentence-transformers langchain-community chromadb langchain-huggingface --quiet"
   ]
  },
  {
   "cell_type": "markdown",
   "id": "38510926",
   "metadata": {},
   "source": [
    "For general-purpose semantic search, a good starting model is:\n",
    "`\"all-MiniLM-L6-v2\"`   \n",
    "\n",
    "Other great options:   \n",
    "\n",
    "`\"BAAI/bge-small-en\"` – very strong performance.   \n",
    "`\"intfloat/multilingual-e5-small\"` – if you want multilingual support.   \n",
    "`\"thenlper/gte-small\"` – open and tuned for RAG-like tasks.   \n",
    "   \n",
    "We'll use `\"all-MiniLM-L6-v2\"` here:    \n"
   ]
  },
  {
   "cell_type": "code",
   "execution_count": 6,
   "id": "4df12fab",
   "metadata": {},
   "outputs": [
    {
     "name": "stderr",
     "output_type": "stream",
     "text": [
      "/workspaces/Avva-2.0/.venv/lib/python3.12/site-packages/tqdm/auto.py:21: TqdmWarning: IProgress not found. Please update jupyter and ipywidgets. See https://ipywidgets.readthedocs.io/en/stable/user_install.html\n",
      "  from .autonotebook import tqdm as notebook_tqdm\n"
     ]
    }
   ],
   "source": [
    "from langchain_huggingface import HuggingFaceEmbeddings\n",
    "\n",
    "embedding_model = HuggingFaceEmbeddings(\n",
    "    model_name=\"all-MiniLM-L6-v2\"\n",
    ")"
   ]
  },
  {
   "cell_type": "markdown",
   "id": "d63731bb",
   "metadata": {},
   "source": [
    "### Step 3: Choose Vector Store\n",
    "\n",
    "| Store                       | Pros                                                            | Cons                                         |\n",
    "| --------------------------- | --------------------------------------------------------------- | -------------------------------------------- |\n",
    "| **Chroma**                  | ✅ Lightweight<br>✅ Local file persistence<br>✅ LangChain native | Slightly slower for huge datasets            |\n",
    "| **FAISS**                   | ✅ Fast, local, simple                                           | ❌ No metadata filtering natively             |\n",
    "| **Weaviate / Qdrant**       | ✅ Scalable<br>✅ Metadata filtering<br>✅ REST API                | Requires running a server or cloud account   |\n",
    "| **Pinecone**                | ✅ Hosted, powerful<br>✅ Metadata filtering                      | ❌ Paid API<br>❌ Cold starts in free tier     |\n",
    "| **LlamaIndex vector index** | ✅ Tight integration with LlamaIndex pipelines                   | ❌ Limited if not using LlamaIndex end-to-end |\n",
    "   \n",
    "✅ Start with Chroma — best for local, fast, simple vector DB with metadata support."
   ]
  },
  {
   "cell_type": "code",
   "execution_count": 7,
   "id": "e7f2c05b",
   "metadata": {},
   "outputs": [],
   "source": [
    "from langchain.vectorstores import Chroma\n",
    "\n",
    "vector_db = Chroma.from_documents(\n",
    "    documents=documents,\n",
    "    embedding=embedding_model,\n",
    "    persist_directory=\"avva_rag_vector_db\"\n",
    ")\n"
   ]
  },
  {
   "cell_type": "markdown",
   "id": "d365fd0f",
   "metadata": {},
   "source": [
    "## Test Basic Retrieval"
   ]
  },
  {
   "cell_type": "code",
   "execution_count": 8,
   "id": "442153a5",
   "metadata": {},
   "outputs": [
    {
     "name": "stdout",
     "output_type": "stream",
     "text": [
      "\n",
      "🔹 Result 1\n",
      "Symptom: Cough\n",
      "Remedy: Apple cider vinegar, cayenne & cinnamon\n",
      "Description: A mixture of apple cider vinegar, cayenne, cinnamon, and honey can help soothe a cough and sore throat.\n",
      "Warnings: None\n",
      "{'source_url': 'https://www.prevention.com/health/a20477585/35-all-time-favorite-natural-remedies/'}\n",
      "\n",
      "🔹 Result 2\n",
      "Symptom: cough and sore throat\n",
      "Remedy: Tea, Honey, Echinacea, Elderberry syrup, Pelargonium\n",
      "Description: Throat-coating properties to reduce irritation, soothe sore throats, suppress coughs, reduce cold symptoms, and have antiviral properties\n",
      "Warnings: Try each remedy individually and consult a doctor before use if pregnant, breastfeeding, or taking prescription medications\n",
      "{'source_url': 'https://www.allinahealth.org/healthysetgo/heal/natural-remedies-for-everyday-illnesses'}\n",
      "\n",
      "🔹 Result 3\n",
      "Symptom: Cough\n",
      "Remedy: Honey\n",
      "Description: Honey may work just as well for a cough as over-the-counter medicines, especially helpful for children who aren’t old enough to take those.\n",
      "Warnings: Don’t give honey to an infant or a toddler younger than 1 due to the risk of rare but serious food poisoning.\n",
      "{'source_url': 'https://www.webmd.com/balance/ss/slideshow-home-remedies'}\n",
      "\n",
      "🔹 Result 4\n",
      "Symptom: Honey and tea\n",
      "Remedy: adding honey to ginger or cinnamon tea\n",
      "Description: Honey has natural antiviral and antimicrobial properties. It can relieve a scratchy throat and keep you hydrated.\n",
      "Warnings: None\n",
      "{'source_url': 'https://www.piedmont.org/living-real-change/9-natural-cold-and-flu-remedies'}\n"
     ]
    }
   ],
   "source": [
    "retriever = vector_db.as_retriever()\n",
    "results = retriever.invoke(\"home remedies for cough\")\n",
    "\n",
    "for i, doc in enumerate(results):\n",
    "    print(f\"\\n🔹 Result {i+1}\")\n",
    "    print(doc.page_content)\n",
    "    print(doc.metadata)\n"
   ]
  },
  {
   "cell_type": "markdown",
   "id": "7dfbdb81",
   "metadata": {},
   "source": [
    "### General Knowledge\n",
    "\n",
    "#### 🧠 Embedding Models: Comparison Table\n",
    "\n",
    "| Model / Tool                          | Type    | Strengths                                      | Weaknesses                                    | Hosted / Local | LangChain Support | 💸 Cost               |\n",
    "|--------------------------------------|---------|------------------------------------------------|-----------------------------------------------|----------------|-------------------|------------------------|\n",
    "| **OpenAI (`text-embedding-3-small`)**| Dense   | High quality, optimized for LLM RAG           | Paid, API limits                              | Hosted         | ✅ Yes            | 💸 $0.00002 / 1K tokens |\n",
    "| **HuggingFace Transformers**         | Dense   | Free, fast, open-source                       | Slightly lower accuracy than OpenAI           | Local / HF Hub | ✅ Yes            | 🆓 Free (local use)     |\n",
    "| **Cohere Embed v3**                  | Dense   | Fast, high quality, multilingual              | API-based, requires key                       | Hosted         | ✅ Yes            | 💸 $0.10 / 1K calls     |\n",
    "| **Jina AI Embeddings**               | Dense   | Open-source, designed for long docs           | Less mainstream                                | Both           | ✅ Yes            | 🆓 Free (OSS), 💸 if hosted |\n",
    "| **Google's BERT / USE**              | Dense   | Strong sentence-level understanding           | Not search-optimized                          | Local          | 🚫 No             | 🆓 Free                 |\n",
    "| **BM25 / TF-IDF**                    | Sparse  | Great keyword matching                        | Poor semantic understanding                   | Local          | ✅ Yes            | 🆓 Free                 |\n",
    "| **Hybrid (Dense + Sparse)**          | Hybrid  | Combines semantic + keyword strengths         | Complex to manage                             | Local          | ✅ Yes            | 🆓 Free                 |\n",
    "\n",
    "###### ✅ Best by Use Case:\n",
    "\n",
    "| Use Case                              | Recommended Embedding     |\n",
    "|--------------------------------------|----------------------------|\n",
    "| RAG with semantic accuracy           | OpenAI or Cohere           |\n",
    "| Privacy/local deployment             | HuggingFace, BM25          |\n",
    "| Long documents (web scraping, RAG)   | Jina AI, OpenAI            |\n",
    "| Keyword-driven search                | BM25 or Hybrid             |\n",
    "\n",
    "---\n",
    "\n",
    "#### 🧊 Vector Database Options: Comparison Table\n",
    "\n",
    "| Vector DB        | Hosted / Local | Dedup Support | Metadata Filtering | Scale Ready | Notes                              | 💸 Cost                          |\n",
    "|------------------|----------------|----------------|---------------------|-------------|-------------------------------------|----------------------------------|\n",
    "| **Chroma**        | Local           | ❌ No           | ✅ Yes               | ⚠️ Limited   | Great for prototyping              | 🆓 Free                          |\n",
    "| **FAISS**         | Local           | ❌ No           | ❌ No                | ✅ Yes       | No metadata, high perf              | 🆓 Free                          |\n",
    "| **Pinecone**      | Hosted          | ✅ Yes (ID)     | ✅ Yes               | ✅ Yes       | Ideal for production RAG           | 💸 Free tier + $0.096/1M vec updates |\n",
    "| **Qdrant**        | Both            | ✅ Yes (ID)     | ✅ Yes               | ✅ Yes       | Open source + managed options      | 🆓 OSS, 💸 $5+/mo (cloud)         |\n",
    "| **Weaviate**      | Both            | ✅ Yes          | ✅ Yes + hybrid      | ✅ Yes       | REST API + hybrid search           | 🆓 OSS, 💸 cloud available        |\n",
    "| **Milvus**        | Both            | ✅ Manual       | ✅ Yes               | ✅ Yes       | Best for massive vector data       | 🆓 Free                          |\n",
    "| **ElasticSearch**| Both            | ⚠️ Partial      | ✅ Yes               | ✅ Yes       | Keyword + dense hybrid search      | 💸 Cloud: starts ~$16/mo         |\n",
    "\n",
    "###### ✅ Best by Use Case:\n",
    "\n",
    "| Need                                 | Recommended Store |\n",
    "|-------------------------------------|-------------------|\n",
    "| Local quick testing                 | Chroma, FAISS     |\n",
    "| Deduplicated, production-ready RAG | Pinecone, Qdrant  |\n",
    "| Open source, scalable               | Qdrant, Milvus    |\n",
    "| Hybrid search (semantic + keyword) | Weaviate, ElasticSearch |\n",
    "| Fine-grained filtering              | Qdrant, Weaviate  |\n",
    "\n",
    "---\n",
    "\n",
    "#### 🔄 Recommended Pairings\n",
    "\n",
    "| Embedding        | Best Paired Vector DB     |\n",
    "|------------------|---------------------------|\n",
    "| OpenAI           | Pinecone, Qdrant, Weaviate|\n",
    "| HuggingFace      | Chroma, FAISS, Qdrant     |\n",
    "| Cohere           | Pinecone, Qdrant          |\n",
    "| BM25 / Hybrid    | Weaviate, ElasticSearch   |\n",
    "| Jina AI          | Qdrant, Chroma            |\n",
    "\n"
   ]
  }
 ],
 "metadata": {
  "kernelspec": {
   "display_name": ".venv",
   "language": "python",
   "name": "python3"
  },
  "language_info": {
   "codemirror_mode": {
    "name": "ipython",
    "version": 3
   },
   "file_extension": ".py",
   "mimetype": "text/x-python",
   "name": "python",
   "nbconvert_exporter": "python",
   "pygments_lexer": "ipython3",
   "version": "3.12.3"
  }
 },
 "nbformat": 4,
 "nbformat_minor": 5
}
