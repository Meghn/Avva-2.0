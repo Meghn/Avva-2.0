{
 "cells": [
  {
   "cell_type": "markdown",
   "id": "b034c8b0",
   "metadata": {},
   "source": [
    "# Prompt & QA Chain\n",
    "\n",
    "Create a retrieval-augmented QA pipeline using:\n",
    "- Custom prompt templates\n",
    "- Your vector store (Chroma) and Hugging Face embeddings\n",
    "- An LLM to generate answers based on retrieved remedy records"
   ]
  },
  {
   "cell_type": "markdown",
   "id": "37c8718f",
   "metadata": {},
   "source": [
    "## Load the vector store"
   ]
  },
  {
   "cell_type": "code",
   "execution_count": 2,
   "id": "0a82c8d6",
   "metadata": {},
   "outputs": [],
   "source": [
    "from langchain.vectorstores import Chroma\n",
    "from langchain_huggingface import HuggingFaceEmbeddings\n",
    "\n",
    "embedding_model = HuggingFaceEmbeddings(\n",
    "    model_name=\"all-MiniLM-L6-v2\"\n",
    ")\n",
    "vector_db = Chroma(\n",
    "    persist_directory=\"avva_rag_vector_db\",  \n",
    "    embedding_function=embedding_model\n",
    ")\n",
    "\n",
    "retriever = vector_db.as_retriever(search_kwargs={\"k\": 3})\n"
   ]
  },
  {
   "cell_type": "markdown",
   "id": "f5857e34",
   "metadata": {},
   "source": [
    "## Prompting Styles\n",
    "\n",
    "| Style                      | Description                                                                | Common Use Cases                                    | Pros                                         | Cons                                                   |\n",
    "| -------------------------- | -------------------------------------------------------------------------- | --------------------------------------------------- | -------------------------------------------- | ------------------------------------------------------ |\n",
    "| **Zero-shot**              | Ask the model a task without any examples                                  | Simple Q\\&A, classification                         | Fast, minimal effort                         | Lower accuracy on complex tasks                        |\n",
    "| **One-shot**               | Provide one example to help steer the model                                | Tasks with subtle formatting needs                  | Slightly better than zero-shot               | Still limited generalization                           |\n",
    "| **Few-shot**               | Show 2–5 examples before task prompt                                       | Code generation, sentiment analysis, math reasoning | Boosts accuracy with little supervision      | Sensitive to prompt length and token limits            |\n",
    "| **Instruction-based**      | Provide clear, explicit instruction (e.g., “You are a helpful assistant…”) | Summarization, generation, reasoning                | Great for LLMs like GPT-3.5-turbo and Claude | Needs tuning, brittle with ambiguous instructions      |\n",
    "| **Chain-of-thought (CoT)** | Ask model to explain reasoning step by step                                | Math problems, reasoning, logic puzzles             | Improves complex task accuracy               | Slower, may hallucinate if not well guided             |\n",
    "| **Tree-of-thought (ToT)**  | Model explores multiple reasoning paths before choosing                    | Planning, multi-hop QA, games                       | Higher-quality decisions in reasoning tasks  | Requires external scaffolding or agents                |\n",
    "| **Self-ask**               | Model asks itself intermediate questions                                   | Open-domain QA                                      | Encourages stepwise refinement               | May lose coherence if not filtered                     |\n",
    "| **ReAct**                  | Reasoning + acting (choose a tool + reason + act recursively)              | Agents, tool-augmented systems                      | Interactive, tool-aware reasoning            | Requires tool integration (like LangChain Agents)      |\n",
    "| **Reflexion**              | Model reflects on prior mistakes and corrects itself                       | Autonomous agents, iterative tasks                  | Self-correction loop improves outcomes       | Needs feedback loop and persistence                    |\n",
    "| **RAG-style**              | Prompt includes retrieved context from vector DB                           | QA from documents, chatbots, LLM with memory        | Keeps answers grounded, boosts truthfulness  | Still prone to hallucinations if context is irrelevant |\n",
    "| **Template-based**         | Prompts built from parameterized templates (LangChain-style)               | Programmatic prompting, pipelines                   | Modular and reusable                         | Might lack flexibility for nuance                      |\n"
   ]
  },
  {
   "cell_type": "markdown",
   "id": "71da6e7b",
   "metadata": {},
   "source": [
    "## Prompt Template: (Instructional + Context-Aware)"
   ]
  },
  {
   "cell_type": "code",
   "execution_count": null,
   "id": "0e91b732",
   "metadata": {},
   "outputs": [],
   "source": [
    "from langchain.prompts import PromptTemplate\n",
    "\n",
    "prompt_template = PromptTemplate.from_template(\"\"\"\n",
    "You are Avva, a helpful and safety-aware AI assistant that suggests home remedies for common symptoms.\n",
    "\n",
    "Use the information from the provided documents to answer the user's question. \n",
    "If no remedy is found, say: \"I'm sorry, I couldn't find a trusted remedy for that symptom.\"\n",
    "\n",
    "Always cite sources if available. Avoid giving medical advice beyond home remedies.\n",
    "\n",
    "### User Question:\n",
    "{question}\n",
    "\n",
    "### Retrieved Context:\n",
    "{context}\n",
    "\n",
    "### Response:\n",
    "\"\"\")\n"
   ]
  },
  {
   "cell_type": "markdown",
   "id": "23480020",
   "metadata": {},
   "source": [
    "## Create QA Chain"
   ]
  },
  {
   "cell_type": "code",
   "execution_count": 5,
   "id": "a3dc55e9",
   "metadata": {},
   "outputs": [],
   "source": [
    "from dotenv import load_dotenv\n",
    "import os\n",
    "\n",
    "load_dotenv()  # looks for .env file\n",
    "secrets_path = os.getenv(\"SECRETS_PATH\")"
   ]
  },
  {
   "cell_type": "code",
   "execution_count": 6,
   "id": "94a98ab8",
   "metadata": {},
   "outputs": [],
   "source": [
    "import os\n",
    "import json\n",
    "\n",
    "with open(secrets_path, \"r\") as f:\n",
    "    secrets = json.load(f)\n",
    "\n",
    "import openai\n",
    "\n",
    "openai.api_key = secrets[\"OPENAI_API_KEY\"]"
   ]
  },
  {
   "cell_type": "code",
   "execution_count": 8,
   "id": "a093cabb",
   "metadata": {},
   "outputs": [],
   "source": [
    "from langchain.chains import RetrievalQA\n",
    "from langchain.chat_models import ChatOpenAI\n",
    "\n",
    "llm = ChatOpenAI(openai_api_key=secrets[\"OPENAI_API_KEY\"],\n",
    "                 model=\"gpt-3.5-turbo\", \n",
    "                 temperature=0)\n",
    "\n",
    "qa_chain = RetrievalQA.from_chain_type(\n",
    "    llm=llm,\n",
    "    retriever=retriever,\n",
    "    chain_type=\"stuff\", # injects context directly into the prompt\n",
    "    chain_type_kwargs={\"prompt\": prompt_template}\n",
    ")\n"
   ]
  },
  {
   "cell_type": "code",
   "execution_count": 9,
   "id": "4eea870f",
   "metadata": {},
   "outputs": [
    {
     "name": "stderr",
     "output_type": "stream",
     "text": [
      "/tmp/ipykernel_10505/2187608448.py:2: LangChainDeprecationWarning: The method `Chain.run` was deprecated in langchain 0.1.0 and will be removed in 1.0. Use :meth:`~invoke` instead.\n",
      "  response = qa_chain.run(question)\n"
     ]
    },
    {
     "name": "stdout",
     "output_type": "stream",
     "text": [
      "🟩 Answer: Here are some safe home remedies for sinus congestion:\n",
      "\n",
      "1. Aromatherapy: Using camphor or menthol salve around the nose can help break up mucus and reduce congestion. Breathing in essential oils like peppermint and eucalyptus can also be beneficial.\n",
      "\n",
      "2. Nasal irrigation: Nasal irrigation therapy can help irrigate and hydrate nasal passages. Make sure to consult with your doctor before starting nasal irrigation therapy and use safe water sources like boiled and cooled tap water, sterile or distilled water, or saline solution.\n",
      "\n",
      "3. Sleep with an extra pillow: Sleeping with an extra pillow under your head can help your sinuses drain.\n",
      "\n",
      "(Source: Remedy documents)\n"
     ]
    }
   ],
   "source": [
    "question = \"What are the best home remedies for sinus congestion?\"\n",
    "response = qa_chain.run(question)\n",
    "print(\"🟩 Answer:\", response)\n"
   ]
  }
 ],
 "metadata": {
  "kernelspec": {
   "display_name": ".venv",
   "language": "python",
   "name": "python3"
  },
  "language_info": {
   "codemirror_mode": {
    "name": "ipython",
    "version": 3
   },
   "file_extension": ".py",
   "mimetype": "text/x-python",
   "name": "python",
   "nbconvert_exporter": "python",
   "pygments_lexer": "ipython3",
   "version": "3.12.3"
  }
 },
 "nbformat": 4,
 "nbformat_minor": 5
}
